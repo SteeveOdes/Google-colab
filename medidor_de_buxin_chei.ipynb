{
  "nbformat": 4,
  "nbformat_minor": 0,
  "metadata": {
    "colab": {
      "provenance": [],
      "authorship_tag": "ABX9TyPi3IWZsO5+cwwPF+eO8lIf",
      "include_colab_link": true
    },
    "kernelspec": {
      "name": "python3",
      "display_name": "Python 3"
    },
    "language_info": {
      "name": "python"
    }
  },
  "cells": [
    {
      "cell_type": "markdown",
      "metadata": {
        "id": "view-in-github",
        "colab_type": "text"
      },
      "source": [
        "<a href=\"https://colab.research.google.com/github/SteeveOdes/Google-colab/blob/main/medidor_de_buxin_chei.ipynb\" target=\"_parent\"><img src=\"https://colab.research.google.com/assets/colab-badge.svg\" alt=\"Open In Colab\"/></a>"
      ]
    },
    {
      "cell_type": "code",
      "execution_count": 16,
      "metadata": {
        "colab": {
          "base_uri": "https://localhost:8080/"
        },
        "id": "OD1MO7M279PG",
        "outputId": "668eb12c-fb1f-4413-c259-296bdb771abb"
      },
      "outputs": [
        {
          "output_type": "stream",
          "name": "stdout",
          "text": [
            "FISCAL DE BUXO CHEIO\n",
            "já comeu (S/N)? s\n",
            "Buxin chei\n"
          ]
        }
      ],
      "source": [
        "print('FISCAL DE BUXO CHEIO')\n",
        "while True:\n",
        "  almoco = input('já comeu (S/N)? ').upper ()\n",
        "  if almoco !='S' and almoco !='N':\n",
        "    continue\n",
        "  if almoco == 'S':\n",
        "    print ('Buxin chei')\n",
        "  else: print ('Vai comer carai')\n",
        "  break\n",
        "\n",
        "\n",
        "\n",
        "\n",
        "\n",
        "quantidade de itens ingeridos\n",
        "se 1 pouco cheio\n",
        "se 2 meio cheio\n",
        "se 3 buxin chei\n",
        "se 4 muitochei\n",
        "\n",
        "\n",
        "\n",
        "\n"
      ]
    },
    {
      "cell_type": "code",
      "source": [
        "print('FISCAL DE BUXO CHEIO')\n",
        "qnt = 0\n",
        "while True:\n",
        "  almoco = input('já comeu (S/N)? ').upper ()\n",
        "  if almoco !='S' and almoco !='N':\n",
        "    continue\n",
        "  if almoco == 'S':\n",
        "    qnt = int(input('Quantidade de itens: '))\n",
        "    print(f'Quantidade de itens ingeridos: {qnt}')\n",
        "  if qnt == 1:\n",
        "    print('Buxin pouco cheio')\n",
        "  elif qnt== 2:\n",
        "    print('Buxin meio cheio')\n",
        "  elif qnt == 3:\n",
        "    print('Buxin chei')\n",
        "  elif qnt == 4:\n",
        "    print('Buxin muito chei')\n",
        "  elif qnt > 4:\n",
        "    print('Gula')\n",
        "\n",
        "  if almoco == 'N':\n",
        "    print ('Vai comer carai')\n",
        "  break\n",
        ""
      ],
      "metadata": {
        "colab": {
          "base_uri": "https://localhost:8080/"
        },
        "id": "WGyE0VxzFzn9",
        "outputId": "dfab559a-4148-4937-f58b-8a98d247eeb6"
      },
      "execution_count": null,
      "outputs": [
        {
          "output_type": "stream",
          "name": "stdout",
          "text": [
            "FISCAL DE BUXO CHEIO\n"
          ]
        }
      ]
    }
  ]
}