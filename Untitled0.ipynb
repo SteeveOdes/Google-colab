{
  "nbformat": 4,
  "nbformat_minor": 0,
  "metadata": {
    "colab": {
      "provenance": [],
      "authorship_tag": "ABX9TyNHQFRJwLES28o89UERQ+uI",
      "include_colab_link": true
    },
    "kernelspec": {
      "name": "python3",
      "display_name": "Python 3"
    },
    "language_info": {
      "name": "python"
    }
  },
  "cells": [
    {
      "cell_type": "markdown",
      "metadata": {
        "id": "view-in-github",
        "colab_type": "text"
      },
      "source": [
        "<a href=\"https://colab.research.google.com/github/SteeveOdes/Google-colab/blob/main/Untitled0.ipynb\" target=\"_parent\"><img src=\"https://colab.research.google.com/assets/colab-badge.svg\" alt=\"Open In Colab\"/></a>"
      ]
    },
    {
      "cell_type": "markdown",
      "source": [],
      "metadata": {
        "id": "lplioH-eTal4"
      }
    },
    {
      "cell_type": "code",
      "execution_count": 3,
      "metadata": {
        "colab": {
          "base_uri": "https://localhost:8080/"
        },
        "id": "MySLzTk6GuWx",
        "outputId": "a63e9d04-4737-4725-f153-67529aaff264"
      },
      "outputs": [
        {
          "output_type": "stream",
          "name": "stdout",
          "text": [
            "ola,mundo\n"
          ]
        }
      ],
      "source": [
        "print ('ola, mundo')"
      ]
    },
    {
      "cell_type": "code",
      "source": [
        "print (3+5)"
      ],
      "metadata": {
        "colab": {
          "base_uri": "https://localhost:8080/"
        },
        "id": "b1r9ar7qK_wu",
        "outputId": "0a93b629-e4d0-4019-b4f0-d3be80011cf3"
      },
      "execution_count": 4,
      "outputs": [
        {
          "output_type": "stream",
          "name": "stdout",
          "text": [
            "8\n"
          ]
        }
      ]
    },
    {
      "cell_type": "markdown",
      "source": [
        "concatenação"
      ],
      "metadata": {
        "id": "tOKXXbNyUMY0"
      }
    },
    {
      "cell_type": "code",
      "source": [
        "print ('2'+'3')"
      ],
      "metadata": {
        "colab": {
          "base_uri": "https://localhost:8080/"
        },
        "id": "hg9KwO7wULs6",
        "outputId": "c55d71ac-5444-4a2d-e061-135ab9d48d75"
      },
      "execution_count": 5,
      "outputs": [
        {
          "output_type": "stream",
          "name": "stdout",
          "text": [
            "23\n"
          ]
        }
      ]
    },
    {
      "cell_type": "code",
      "source": [
        "print ('olá,','mundo')"
      ],
      "metadata": {
        "colab": {
          "base_uri": "https://localhost:8080/"
        },
        "id": "PE_a2ehcUXcY",
        "outputId": "bac24ff2-2c6a-453d-851f-7c067f6705f4"
      },
      "execution_count": 7,
      "outputs": [
        {
          "output_type": "stream",
          "name": "stdout",
          "text": [
            "olá, mundo\n"
          ]
        }
      ]
    },
    {
      "cell_type": "code",
      "source": [
        "print ('o resultado de 2+3 é:', 2+3)"
      ],
      "metadata": {
        "colab": {
          "base_uri": "https://localhost:8080/"
        },
        "id": "o3EpYVKkUl-c",
        "outputId": "a3e7fb8a-071f-44bb-cb2b-25087b6a6f3b"
      },
      "execution_count": 16,
      "outputs": [
        {
          "output_type": "stream",
          "name": "stdout",
          "text": [
            "o resultado de 2+3 é: 5\n"
          ]
        }
      ]
    },
    {
      "cell_type": "markdown",
      "source": [
        "ordem das operações"
      ],
      "metadata": {
        "id": "NTtmNNyaV2lr"
      }
    },
    {
      "cell_type": "code",
      "source": [
        "print (6+(3-4/2))"
      ],
      "metadata": {
        "colab": {
          "base_uri": "https://localhost:8080/"
        },
        "id": "5tuK-j2nV0i5",
        "outputId": "13968c96-52b5-4d3e-b7e4-d0c4bdf15aee"
      },
      "execution_count": 17,
      "outputs": [
        {
          "output_type": "stream",
          "name": "stdout",
          "text": [
            "7.0\n"
          ]
        }
      ]
    },
    {
      "cell_type": "code",
      "source": [
        "print (6+(3-4)/2)"
      ],
      "metadata": {
        "colab": {
          "base_uri": "https://localhost:8080/"
        },
        "id": "laQ4_n2jWLVI",
        "outputId": "9ff0f571-8598-4e5b-c346-a1598e0b3c71"
      },
      "execution_count": 18,
      "outputs": [
        {
          "output_type": "stream",
          "name": "stdout",
          "text": [
            "5.5\n"
          ]
        }
      ]
    },
    {
      "cell_type": "markdown",
      "source": [
        "variáveis"
      ],
      "metadata": {
        "id": "AwiVwPbaZVKZ"
      }
    },
    {
      "cell_type": "code",
      "source": [
        "nota = 7\n",
        "disciplina = 'logica'\n",
        "\n",
        "print (nota)\n",
        "print (disciplina)"
      ],
      "metadata": {
        "colab": {
          "base_uri": "https://localhost:8080/"
        },
        "id": "JCwRTYWBY3pU",
        "outputId": "f11b68d0-475e-49ab-a9c0-27ae8cc544c8"
      },
      "execution_count": 20,
      "outputs": [
        {
          "output_type": "stream",
          "name": "stdout",
          "text": [
            "7\n",
            "logica\n"
          ]
        }
      ]
    },
    {
      "cell_type": "code",
      "source": [
        "print ('nota:', nota, 'disciplina', disciplina)"
      ],
      "metadata": {
        "colab": {
          "base_uri": "https://localhost:8080/"
        },
        "id": "gL00_-lQZUNC",
        "outputId": "95368af9-c649-4518-b6b1-d0f52c573b20"
      },
      "execution_count": 21,
      "outputs": [
        {
          "output_type": "stream",
          "name": "stdout",
          "text": [
            "nota: 7 disciplina logica\n"
          ]
        }
      ]
    },
    {
      "cell_type": "markdown",
      "source": [
        "VARIÁVEL LÓGICA\n"
      ],
      "metadata": {
        "id": "9odieXGVc7iz"
      }
    },
    {
      "cell_type": "code",
      "source": [
        "a = 1\n",
        "b = 5"
      ],
      "metadata": {
        "id": "E19b8LY5c7WP"
      },
      "execution_count": 23,
      "outputs": []
    },
    {
      "cell_type": "code",
      "source": [
        "resposta = a == b\n",
        "print (resposta)"
      ],
      "metadata": {
        "colab": {
          "base_uri": "https://localhost:8080/"
        },
        "id": "houViV6FdKSI",
        "outputId": "fb4089e8-bee5-4403-a5e9-c365ad4a7590"
      },
      "execution_count": 25,
      "outputs": [
        {
          "output_type": "stream",
          "name": "stdout",
          "text": [
            "False\n"
          ]
        }
      ]
    },
    {
      "cell_type": "code",
      "source": [
        "resposta = a != b\n",
        "print (resposta)"
      ],
      "metadata": {
        "colab": {
          "base_uri": "https://localhost:8080/"
        },
        "id": "jMTwxeohdY4o",
        "outputId": "1f71355b-d1ff-4ee1-e987-ea0f6b18469c"
      },
      "execution_count": 26,
      "outputs": [
        {
          "output_type": "stream",
          "name": "stdout",
          "text": [
            "True\n"
          ]
        }
      ]
    },
    {
      "cell_type": "markdown",
      "source": [
        "strings"
      ],
      "metadata": {
        "id": "UbXSHjJsgGY0"
      }
    },
    {
      "cell_type": "code",
      "source": [
        "frase ='olá, mundo'"
      ],
      "metadata": {
        "id": "I5Gaj6X2gFr3"
      },
      "execution_count": 30,
      "outputs": []
    },
    {
      "cell_type": "code",
      "source": [
        "print (frase[2])\n",
        "#é possível acessar cada posição (índice) da cadeia de caracteres"
      ],
      "metadata": {
        "colab": {
          "base_uri": "https://localhost:8080/"
        },
        "id": "xaR4RZx9gQOm",
        "outputId": "ff1b9b0f-a1eb-4621-f72a-04ee0955f0b2"
      },
      "execution_count": 32,
      "outputs": [
        {
          "output_type": "stream",
          "name": "stdout",
          "text": [
            "á\n"
          ]
        }
      ]
    },
    {
      "cell_type": "markdown",
      "source": [
        "fatiamento"
      ],
      "metadata": {
        "id": "8BGUQ39SoSMo"
      }
    },
    {
      "cell_type": "code",
      "source": [
        "#podemos recortar/fatiar um pedaço da string\n",
        "s1 = 'logica e algoritmo'\n",
        "print( s1[0:6])\n",
        "#nesse caso  informei que queria que exibisse do indice 0 ao 6, mas poderia ter colocado sem o delimitador no inicio [:6] que também funcionaria"
      ],
      "metadata": {
        "colab": {
          "base_uri": "https://localhost:8080/"
        },
        "id": "RbzuUhIwoR-O",
        "outputId": "0dce536f-d508-4d83-8e4f-50d52be26b75"
      },
      "execution_count": 57,
      "outputs": [
        {
          "output_type": "stream",
          "name": "stdout",
          "text": [
            "logica\n"
          ]
        }
      ]
    },
    {
      "cell_type": "markdown",
      "source": [
        "Tamanho"
      ],
      "metadata": {
        "id": "9fkxnvKapj0e"
      }
    },
    {
      "cell_type": "code",
      "source": [
        "s1 = 'logica de programacao'\n",
        "tamanho = len(s1)\n",
        "print(tamanho)\n",
        "#o comando len mostra quantos caracteres tem na cadeia"
      ],
      "metadata": {
        "colab": {
          "base_uri": "https://localhost:8080/"
        },
        "id": "a4B7zNSHpjX2",
        "outputId": "566a4b85-5460-411b-fe99-55b87272027f"
      },
      "execution_count": 58,
      "outputs": [
        {
          "output_type": "stream",
          "name": "stdout",
          "text": [
            "21\n"
          ]
        }
      ]
    },
    {
      "cell_type": "markdown",
      "source": [
        "Concatenação"
      ],
      "metadata": {
        "id": "fSqwavSOhYpa"
      }
    },
    {
      "cell_type": "code",
      "source": [
        "s1 = 'lógica'\n",
        "s1 = s1 + ' de programação'\n",
        "print (s1)"
      ],
      "metadata": {
        "colab": {
          "base_uri": "https://localhost:8080/"
        },
        "id": "hynBJW41hV1D",
        "outputId": "26ad3932-d17f-4dce-d844-179e14fc315a"
      },
      "execution_count": 35,
      "outputs": [
        {
          "output_type": "stream",
          "name": "stdout",
          "text": [
            "lógica de programação\n"
          ]
        }
      ]
    },
    {
      "cell_type": "markdown",
      "source": [
        "repetindo strings nna concatenação"
      ],
      "metadata": {
        "id": "VTz3c19Sh09J"
      }
    },
    {
      "cell_type": "code",
      "source": [
        "s1 = 'a'+ '-' *10 + 'b'\n",
        "print(s1)\n",
        "# o *10 multiplicou o caracter - fazendo com que não precise digitar 10 vezes"
      ],
      "metadata": {
        "colab": {
          "base_uri": "https://localhost:8080/"
        },
        "id": "rkAbBwHshyc8",
        "outputId": "7a1effde-4971-4481-8289-9deb0f0ab9ee"
      },
      "execution_count": 36,
      "outputs": [
        {
          "output_type": "stream",
          "name": "stdout",
          "text": [
            "a----------b\n"
          ]
        }
      ]
    },
    {
      "cell_type": "markdown",
      "source": [
        "composição"
      ],
      "metadata": {
        "id": "fedFfPnDiYwL"
      }
    },
    {
      "cell_type": "code",
      "source": [
        "\n",
        "nota = 7.5\n",
        "s1 = 'voce tirou %f na disciplina de logica' % nota\n",
        "print (s1)\n",
        "#nesse caso %f foi substituido pela variavel nota que estpa fora das aspas, porém o resultado está com muitas casas decimais."
      ],
      "metadata": {
        "colab": {
          "base_uri": "https://localhost:8080/"
        },
        "id": "HAv7DXdBiWvz",
        "outputId": "060ff82f-3697-4cb3-afed-db6a78149f10"
      },
      "execution_count": 41,
      "outputs": [
        {
          "output_type": "stream",
          "name": "stdout",
          "text": [
            "voce tirou 7.500000 na disciplina de logica\n"
          ]
        }
      ]
    },
    {
      "cell_type": "markdown",
      "source": [
        "limitando as casas decimais"
      ],
      "metadata": {
        "id": "8ec2yQIxkeC1"
      }
    },
    {
      "cell_type": "code",
      "source": [
        "nota = 7.5\n",
        "s1 = 'voce tirou %.2f na disciplina de logica' % nota\n",
        "print (s1)\n",
        "# ao adicionar .2 entre %f o número das casas ficam limitadas a 2"
      ],
      "metadata": {
        "colab": {
          "base_uri": "https://localhost:8080/"
        },
        "id": "eyBVUxZjkbRD",
        "outputId": "83fedeb6-03e4-4b92-b87f-ad5ceb423efd"
      },
      "execution_count": 42,
      "outputs": [
        {
          "output_type": "stream",
          "name": "stdout",
          "text": [
            "voce tirou 7.50 na disciplina de logica\n"
          ]
        }
      ]
    },
    {
      "cell_type": "code",
      "source": [
        "nota = 7.5\n",
        "s1 = 'voce tirou %.1f na disciplina de logica' % nota\n",
        "print (s1)\n",
        "#ao adicionar .1 entre %f o número das casas ficam limitadas a 1"
      ],
      "metadata": {
        "colab": {
          "base_uri": "https://localhost:8080/"
        },
        "id": "ok-9QSHOk00V",
        "outputId": "ace8ffab-45be-43ef-d11d-eb2cb499d889"
      },
      "execution_count": 43,
      "outputs": [
        {
          "output_type": "stream",
          "name": "stdout",
          "text": [
            "voce tirou 7.5 na disciplina de logica\n"
          ]
        }
      ]
    },
    {
      "cell_type": "markdown",
      "source": [
        "varias variáveis - modo antigo"
      ],
      "metadata": {
        "id": "e9NAlrJBkZYx"
      }
    },
    {
      "cell_type": "code",
      "source": [
        "nota2 = 8\n",
        "disciplina2 = 'algoritmo'\n",
        "s1 = 'voce tirou %i na disciplina de %s' % (nota2, disciplina2)\n",
        "print (s1)\n",
        "#nesse caso as variáveis devem estar depois do percentual, na ordem de aparição e dentro de parenteses"
      ],
      "metadata": {
        "colab": {
          "base_uri": "https://localhost:8080/"
        },
        "id": "L5bN17X_j27l",
        "outputId": "35da890b-1011-4a60-c274-d0b5b5d14170"
      },
      "execution_count": 51,
      "outputs": [
        {
          "output_type": "stream",
          "name": "stdout",
          "text": [
            "voce tirou 8 na disciplina de algoritmo\n"
          ]
        }
      ]
    },
    {
      "cell_type": "markdown",
      "source": [
        "modo mais moderno"
      ],
      "metadata": {
        "id": "m0yaGrRfnJUc"
      }
    },
    {
      "cell_type": "code",
      "source": [
        "nota2 = 8\n",
        "disciplina2 = 'algoritmo'\n",
        "s1 = 'voce tirou {} na disciplina de {}' .format (nota2, disciplina2)\n",
        "print (s1)\n",
        "#nesse caso os percentuais são substuidos por {} na frase e no final por .format"
      ],
      "metadata": {
        "colab": {
          "base_uri": "https://localhost:8080/"
        },
        "id": "n9u_2_18nI6n",
        "outputId": "43c91d27-43d0-4a6a-ab99-cb6ea31763cb"
      },
      "execution_count": 54,
      "outputs": [
        {
          "output_type": "stream",
          "name": "stdout",
          "text": [
            "voce tirou 8 na disciplina de algoritmo\n"
          ]
        }
      ]
    },
    {
      "cell_type": "markdown",
      "source": [
        "FUNÇÃO DE ENTRADA: INPUT\n"
      ],
      "metadata": {
        "id": "CpFn770Prz5L"
      }
    },
    {
      "cell_type": "code",
      "source": [
        "idade = input ('qual sua idade?')\n",
        "print (idade)\n",
        "# o input abre uma carixa de texto para que seja adicionada a informação requisitada"
      ],
      "metadata": {
        "colab": {
          "base_uri": "https://localhost:8080/"
        },
        "id": "-4gRj_z8rzMb",
        "outputId": "d4a9ea8e-c261-4b45-9385-f13841e5719e"
      },
      "execution_count": 59,
      "outputs": [
        {
          "output_type": "stream",
          "name": "stdout",
          "text": [
            "qual sua idade?1\n",
            "1\n"
          ]
        }
      ]
    },
    {
      "cell_type": "code",
      "source": [
        "nome = input( 'qual seu nome?')\n",
        "idade = input ('qual sua idade?')\n",
        "disciplina = 'logica'\n",
        "s1 = 'Olá {}, voce tem {} anos e está cursando a disciplina de {}' .format (nome, idade, disciplina)\n",
        "print (s1)"
      ],
      "metadata": {
        "colab": {
          "base_uri": "https://localhost:8080/"
        },
        "id": "Ap7-BN2pseEF",
        "outputId": "e18c38b4-926e-468f-9585-d74007a56c34"
      },
      "execution_count": 62,
      "outputs": [
        {
          "output_type": "stream",
          "name": "stdout",
          "text": [
            "qual seu nome?steve\n",
            "qual sua idade?23\n",
            "Olá steve, voce tem 23 anos e está cursando a disciplina de logica\n"
          ]
        }
      ]
    },
    {
      "cell_type": "markdown",
      "source": [
        "convertendo dados de entrada"
      ],
      "metadata": {
        "id": "cY__estTuw4X"
      }
    },
    {
      "cell_type": "code",
      "source": [
        "nome = 'steve'\n",
        "idade = int (input('qual sua idade?'))\n",
        "disciplina = 'logica'\n",
        "s1 = 'Olá {}, voce tem {} anos e está cursando a disciplina de {}' .format (nome, idade, disciplina)\n",
        "print (s1)\n",
        "#nesse caso o dado da idade foi convertido em dado numérico, ao usar int ou float devemos colocar o restante entre parenteses"
      ],
      "metadata": {
        "colab": {
          "base_uri": "https://localhost:8080/"
        },
        "id": "R3EcUtPbsW-4",
        "outputId": "3a9b9898-13d4-4e10-bb4a-29178de36c0c"
      },
      "execution_count": 63,
      "outputs": [
        {
          "output_type": "stream",
          "name": "stdout",
          "text": [
            "qual sua idade?23\n",
            "Olá steve, voce tem 23 anos e está cursando a disciplina de logica\n"
          ]
        }
      ]
    },
    {
      "cell_type": "markdown",
      "source": [],
      "metadata": {
        "id": "1HlYegf_xEzM"
      }
    },
    {
      "cell_type": "code",
      "source": [
        "x= int(input ('numero x'))\n",
        "y= int(input ('numero y'))\n",
        "equacao = 'O resultado de {} + {} é: {}' .format (x, y, x+y)\n",
        "print (equacao)"
      ],
      "metadata": {
        "colab": {
          "base_uri": "https://localhost:8080/"
        },
        "id": "vBVv7nA-xEf5",
        "outputId": "913ac77e-fc63-4e95-c7ca-eafd72214a1f"
      },
      "execution_count": 71,
      "outputs": [
        {
          "output_type": "stream",
          "name": "stdout",
          "text": [
            "numero x4\n",
            "numero y9\n",
            "O resultado de 4 + 9 é: 13\n"
          ]
        }
      ]
    },
    {
      "cell_type": "code",
      "source": [],
      "metadata": {
        "id": "BwzvmFnfyv69"
      },
      "execution_count": null,
      "outputs": []
    }
  ]
}