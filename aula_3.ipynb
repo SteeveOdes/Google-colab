{
  "nbformat": 4,
  "nbformat_minor": 0,
  "metadata": {
    "colab": {
      "provenance": [],
      "authorship_tag": "ABX9TyMoTxM2qIWFmQ+tc1H/gD2t",
      "include_colab_link": true
    },
    "kernelspec": {
      "name": "python3",
      "display_name": "Python 3"
    },
    "language_info": {
      "name": "python"
    }
  },
  "cells": [
    {
      "cell_type": "markdown",
      "metadata": {
        "id": "view-in-github",
        "colab_type": "text"
      },
      "source": [
        "<a href=\"https://colab.research.google.com/github/SteeveOdes/Google-colab/blob/main/aula_3.ipynb\" target=\"_parent\"><img src=\"https://colab.research.google.com/assets/colab-badge.svg\" alt=\"Open In Colab\"/></a>"
      ]
    },
    {
      "cell_type": "markdown",
      "source": [
        "condicional simples"
      ],
      "metadata": {
        "id": "gNl6m4opDkcn"
      }
    },
    {
      "cell_type": "code",
      "execution_count": 4,
      "metadata": {
        "colab": {
          "base_uri": "https://localhost:8080/"
        },
        "id": "6QsI9NxzDdrl",
        "outputId": "6035d9d8-a030-4110-d219-fe20552534b7"
      },
      "outputs": [
        {
          "output_type": "stream",
          "name": "stdout",
          "text": [
            "valor 1: 2\n",
            "valor 2: 1\n",
            "o primeiro é maior\n"
          ]
        }
      ],
      "source": [
        "x = int(input( 'valor 1: '))\n",
        "y = int(input('valor 2:  '))\n",
        "if x>y:\n",
        "  print( 'o primeiro é maior')\n",
        "#nesse caso o resultado da operação é verdadeiro e o if me apresenta a execução do bloco print"
      ]
    },
    {
      "cell_type": "markdown",
      "source": [
        "condicional composta\n"
      ],
      "metadata": {
        "id": "T5Yfj_fbJUtM"
      }
    },
    {
      "cell_type": "code",
      "source": [
        "#par ou impar\n",
        "x= int(input('numero inteiro: '))\n",
        "if x % 2 == 0:\n",
        "  print('o numero é par')\n",
        "else:\n",
        "  print ('o numero é impar')\n",
        "#nesse caso o if tem uma a operação que determina se é impar ou par através do resto da divisão, se o número dividido por 2 não tiver um resto igual a 0 ele é impar, se for igual é par\n",
        ""
      ],
      "metadata": {
        "colab": {
          "base_uri": "https://localhost:8080/"
        },
        "id": "xzutNtliJUZL",
        "outputId": "90f6e9e9-0ea6-4b3e-a448-cb0c928cd995"
      },
      "execution_count": 6,
      "outputs": [
        {
          "output_type": "stream",
          "name": "stdout",
          "text": [
            "numero inteiro: 4\n",
            "o numero é par\n"
          ]
        }
      ]
    },
    {
      "cell_type": "markdown",
      "source": [
        "operadores\n"
      ],
      "metadata": {
        "id": "bYibBZkHRpxU"
      }
    },
    {
      "cell_type": "code",
      "source": [
        "#not\n",
        "x = True\n",
        "y = False\n",
        "print( not x)\n",
        "print(not y)"
      ],
      "metadata": {
        "colab": {
          "base_uri": "https://localhost:8080/"
        },
        "id": "gIzOCK3PO1n0",
        "outputId": "8885f391-ba59-4123-93af-919f47d8fd9f"
      },
      "execution_count": 7,
      "outputs": [
        {
          "output_type": "stream",
          "name": "stdout",
          "text": [
            "False\n",
            "True\n"
          ]
        }
      ]
    },
    {
      "cell_type": "code",
      "source": [
        "#and\n",
        "x = True\n",
        "y = False\n",
        "print(x and y)\n"
      ],
      "metadata": {
        "colab": {
          "base_uri": "https://localhost:8080/"
        },
        "id": "Qv7cwi-yR_Dp",
        "outputId": "dc6bb949-db2e-4fff-b3f9-37b368309c19"
      },
      "execution_count": 8,
      "outputs": [
        {
          "output_type": "stream",
          "name": "stdout",
          "text": [
            "False\n"
          ]
        }
      ]
    },
    {
      "cell_type": "code",
      "source": [
        "#or\n",
        "x = True\n",
        "y = False\n",
        "print(x or y)"
      ],
      "metadata": {
        "colab": {
          "base_uri": "https://localhost:8080/"
        },
        "id": "nX6FyKxtSFHM",
        "outputId": "6acfb230-1e8c-4d63-f5b5-de8ce10b517b"
      },
      "execution_count": 9,
      "outputs": [
        {
          "output_type": "stream",
          "name": "stdout",
          "text": [
            "True\n"
          ]
        }
      ]
    },
    {
      "cell_type": "markdown",
      "source": [
        "expressoes lógicas booleanas"
      ],
      "metadata": {
        "id": "2iFS2m2xSJIP"
      }
    },
    {
      "cell_type": "code",
      "source": [
        "x = 10\n",
        "y = 1\n",
        "res = not x > y\n",
        "print (res)\n",
        "#x é maior que y, porém o operador not inverteu o resultado\n"
      ],
      "metadata": {
        "colab": {
          "base_uri": "https://localhost:8080/"
        },
        "id": "cBUFdPHoSJAq",
        "outputId": "91651d0c-98b9-47f0-a849-d7644d4a9d62"
      },
      "execution_count": 10,
      "outputs": [
        {
          "output_type": "stream",
          "name": "stdout",
          "text": [
            "False\n"
          ]
        }
      ]
    },
    {
      "cell_type": "code",
      "source": [
        "x = 10\n",
        "y = 1\n",
        "z = 5\n",
        "res = x > y and z==y\n",
        "print (res)\n",
        "#x é maior que y, porém z não é igual a y portanto o operador dá uum resultado false\n"
      ],
      "metadata": {
        "colab": {
          "base_uri": "https://localhost:8080/"
        },
        "id": "w1KV2HGRUhE0",
        "outputId": "a8ae504d-ffa4-4f96-88f8-a87ae0ed7fc9"
      },
      "execution_count": 11,
      "outputs": [
        {
          "output_type": "stream",
          "name": "stdout",
          "text": [
            "False\n"
          ]
        }
      ]
    },
    {
      "cell_type": "markdown",
      "source": [
        "exercicio"
      ],
      "metadata": {
        "id": "9mH6eM8GVAj2"
      }
    },
    {
      "cell_type": "code",
      "source": [
        "n1 = float(input('nota 1: '))\n",
        "n2 = float(input('nota 2: '))\n",
        "n3 = float(input('nota 3: '))\n",
        "if n1 == 7 and n2 == 7 and n3 == 7:\n",
        "  print( 'O aluno passou de ano');\n",
        "else:\n",
        "  print('reprovado');\n"
      ],
      "metadata": {
        "colab": {
          "base_uri": "https://localhost:8080/"
        },
        "id": "p-GXyD1eU_-a",
        "outputId": "a3bacaaf-110d-4ffe-f0ac-6a7adfc513ce"
      },
      "execution_count": 14,
      "outputs": [
        {
          "output_type": "stream",
          "name": "stdout",
          "text": [
            "nota 1: 4\n",
            "nota 2: 5\n",
            "nota 3: 6\n",
            "reprovado\n"
          ]
        }
      ]
    },
    {
      "cell_type": "markdown",
      "source": [
        "condicionais aninhada\n"
      ],
      "metadata": {
        "id": "Ajm2FvLdY0K1"
      }
    },
    {
      "cell_type": "code",
      "source": [
        "x = int(input('numero 1: '))\n",
        "y = int(input('numero 2: '))\n",
        "soma = x + y\n",
        "if soma > 10:\n",
        "  print ('é maior que 10')\n",
        "else:\n",
        "    if soma < 10:\n",
        "      print('menor que 10')\n",
        "    else:\n",
        "      if soma == 10:\n",
        "        print('é igual a 10')\n",
        "  # as condicionais estão uma dentro da outra para que todos resultados possiveis gerem uma resolução\n"
      ],
      "metadata": {
        "colab": {
          "base_uri": "https://localhost:8080/"
        },
        "id": "r8S1-95UYz6A",
        "outputId": "880bffe4-ced0-435d-c34d-3ff8db674046"
      },
      "execution_count": 19,
      "outputs": [
        {
          "output_type": "stream",
          "name": "stdout",
          "text": [
            "numero 1: 5\n",
            "numero 2: 5\n",
            "é igual a 10\n"
          ]
        }
      ]
    },
    {
      "cell_type": "code",
      "source": [
        "#exercicio\n",
        "print('o que deseja comprar?')\n",
        "print('1 banana')\n",
        "print('2 maçã')\n",
        "print('3 pêra')\n",
        "produto = int(input('qual sua escolha?'))\n",
        "qnt = int(input('qnts unidades?'))\n",
        "if (produto == 1 ):\n",
        "  pagar = qnt * 2\n",
        "  print('Você comprou {} banana e deve pagar {}'.format (qnt, pagar))\n",
        "else:\n",
        "  if(produto == 2 ):\n",
        "    pagar = qnt * 3\n",
        "    print('Você comprou {} maçã e deve pagar {}'.format (qnt, pagar))\n",
        "  else:\n",
        "    if(produto == 3 ):\n",
        "      pagar = qnt * 4\n",
        "      print('Você comprou {} pêras e deve pagar {}'.format (qnt, pagar))\n",
        "    else:\n",
        "      print ('produto inexistente')\n"
      ],
      "metadata": {
        "colab": {
          "base_uri": "https://localhost:8080/"
        },
        "id": "h8kEUt56dYRx",
        "outputId": "b87e0e4d-9c8c-49bb-9dee-2ff0e2b3e9e2"
      },
      "execution_count": 20,
      "outputs": [
        {
          "output_type": "stream",
          "name": "stdout",
          "text": [
            "o que deseja comprar?\n",
            "1 banana\n",
            "2 maçã\n",
            "3 pêra\n",
            "qual sua escolha?3\n",
            "qnts unidades?2\n",
            "Você comprou 2 pêras e deve pagar 8\n"
          ]
        }
      ]
    },
    {
      "cell_type": "markdown",
      "source": [
        "condicinais de multiplas escolhas"
      ],
      "metadata": {
        "id": "-YbnAAtdgTkA"
      }
    },
    {
      "cell_type": "code",
      "source": [
        "#exercicio\n",
        "print('o que deseja comprar?')\n",
        "print('1 banana')\n",
        "print('2 maçã')\n",
        "print('3 pêra')\n",
        "produto = int(input('qual sua escolha?'))\n",
        "qnt = int(input('qnts unidades?'))\n",
        "if (produto == 1 ):\n",
        "  pagar = qnt * 2\n",
        "  print('Você comprou {} banana e deve pagar {}'.format (qnt, pagar))\n",
        "elif(produto == 2 ):\n",
        "    pagar = qnt * 3\n",
        "    print('Você comprou {} maçã e deve pagar {}'.format (qnt, pagar))\n",
        "elif(produto == 3 ):\n",
        "      pagar = qnt * 4\n",
        "      print('Você comprou {} pêras e deve pagar {}'.format (qnt, pagar))\n",
        "else:\n",
        "      print ('produto inexistente')\n",
        "\n",
        "#o elif é a junção do else com o if, facilita o desenvolvimento e diminui a quantidade de recuos\n"
      ],
      "metadata": {
        "colab": {
          "base_uri": "https://localhost:8080/"
        },
        "id": "QQtGdfGwgRlk",
        "outputId": "6ea5d404-de50-4098-cbd4-453e0e2235a7"
      },
      "execution_count": 21,
      "outputs": [
        {
          "output_type": "stream",
          "name": "stdout",
          "text": [
            "o que deseja comprar?\n",
            "1 banana\n",
            "2 maçã\n",
            "3 pêra\n",
            "qual sua escolha?2\n",
            "qnts unidades?3\n",
            "Você comprou 3 maçã e deve pagar 9\n"
          ]
        }
      ]
    },
    {
      "cell_type": "code",
      "source": [
        "#exercicio\n",
        "nome = input('escreva seu nome: ')\n",
        "idade = int(input ('escreva sua idade'))\n",
        "if nome == 'steve':\n",
        "  print('bem vindo, steve')\n",
        "elif idade >= 100:\n",
        "  print ('já era pra você estar morto')\n",
        "elif idade <= 17:\n",
        "  print ('não é o steve, você é menor de idade')\n"
      ],
      "metadata": {
        "colab": {
          "base_uri": "https://localhost:8080/"
        },
        "id": "eTWH9cgphNz3",
        "outputId": "03b874e5-21cd-46dd-8e3d-b3c828b0a870"
      },
      "execution_count": 34,
      "outputs": [
        {
          "output_type": "stream",
          "name": "stdout",
          "text": [
            "escreva seu nome: steve\n",
            "escreva sua idade15\n",
            "bem vindo, steve\n"
          ]
        }
      ]
    },
    {
      "cell_type": "code",
      "source": [
        "print('Bem-vindo a Loja de Gelados do Estevão') #APRESENTAÇÃO\n",
        "print('-----------------------CARDÁPIO-------------------------')\n",
        "print('---------| Tamanho | Cupuaçu (CP) | Açaí (AC) |---------')\n",
        "print('---------|    P    |   R$10,00    |  R$12,00  |---------')\n",
        "print('---------|    M    |   R$15,00    |  R$17,00  |---------')\n",
        "print('---------|    G    |   R$19,00    |  R$21,00  |---------')\n",
        "print('--------------------------------------------------------')\n",
        "acumulador = 0\n",
        "while True:\n",
        "    #CÓDIGO PARA IDENTIFICAR OS TAMANHOS E SABORES\n",
        "    tamanho = input('Tamanho do copo: ')\n",
        "    if tamanho != 'P' and  tamanho != 'M' and tamanho != 'G':\n",
        "        print('Tamanho inválido. Tente novamente.')\n",
        "        continue\n",
        "    elif tamanho == 'P' or tamanho == 'M'  or tamanho == 'G':\n",
        "        print('Copo tamanho {} selecionado' .format (tamanho))\n",
        "\n",
        "\n",
        "    sabor = input('Sabor do creme: ')\n",
        "    if sabor == 'CP' or sabor == 'AC' :\n",
        "        print('Sabor {} selecionado' .format (sabor))\n",
        "    elif sabor != 'CP'  or sabor != 'AC':\n",
        "        print('Sabor inválido. Tente novamente.')\n",
        "        continue #CASO AS OPÇÕES SEJAM INVÁLIDAS O USUÁRIO TEM QUE PREENCHER DESDE O INÍCIO\n",
        "\n",
        "\n",
        "#CÓDIGO PARA DEFINIR O VALOR\n",
        "    pedido = sabor+tamanho\n",
        "    if pedido == 'CPP':\n",
        "        print('Você escolheu o copo de cupuaçu tamanho P')\n",
        "        acumulador = acumulador + 10\n",
        "\n",
        "    elif pedido == 'CPM':\n",
        "        print('Você escolheu o copo de cupuaçu tamanho M')\n",
        "        acumulador = acumulador + 15\n",
        "\n",
        "    elif pedido == 'CPG':\n",
        "        print('Você escolheu o copo de cupuaçu tamanho G')\n",
        "        acumulador = acumulador + 19\n",
        "\n",
        "\n",
        "    elif pedido == 'ACP':\n",
        "        print('Você escolheu o copo de açaí tamanho P')\n",
        "        acumulador = acumulador + 12\n",
        "\n",
        "    elif pedido == 'ACM':\n",
        "        print('Você escolheu o copo de açaí tamanho M')\n",
        "        acumulador = acumulador + 17\n",
        "\n",
        "    elif pedido == 'ACG':\n",
        "        print('Você escolheu o copo de açaí tamanho G')\n",
        "        acumulador = acumulador + 22\n",
        "#CÓDIGO PARA REPETIR PEDIDO\n",
        "    Pedir_mais = input('Deseja pedir mais um copo (S/N)?: ')\n",
        "    if Pedir_mais == 'S':\n",
        "        continue\n",
        "    else:\n",
        "     print('O valor total a ser pago: R$ {} ' .format (acumulador))\n",
        "     break # SE CASO O CLIENTE NÃO QUISER PEDIR MAIS O CÓDIGO NÃO VOLTA PRO INÍCIO\n",
        "\n",
        "\n",
        "\n",
        "\n",
        "\n",
        "\n"
      ],
      "metadata": {
        "colab": {
          "base_uri": "https://localhost:8080/"
        },
        "id": "YL7mBh_Wy_qp",
        "outputId": "ef7812e6-1282-4076-e713-48e50e77e268"
      },
      "execution_count": 1,
      "outputs": [
        {
          "output_type": "stream",
          "name": "stdout",
          "text": [
            "Bem-vindo a Loja de Gelados do Estevão\n",
            "-----------------------CARDÁPIO-------------------------\n",
            "---------| Tamanho | Cupuaçu (CP) | Açaí (AC) |---------\n",
            "---------|    P    |   R$10,00    |  R$12,00  |---------\n",
            "---------|    M    |   R$15,00    |  R$17,00  |---------\n",
            "---------|    G    |   R$19,00    |  R$21,00  |---------\n",
            "--------------------------------------------------------\n",
            "Tamanho do copo: P\n",
            "Copo tamanho P selecionado\n",
            "Sabor do creme: AC\n",
            "Sabor AC selecionado\n",
            "Você escolheu o copo de açaí tamanho P\n",
            "Deseja pedir mais um copo (S/N)?: S\n",
            "Tamanho do copo: M\n",
            "Copo tamanho M selecionado\n",
            "Sabor do creme: AC\n",
            "Sabor AC selecionado\n",
            "Você escolheu o copo de açaí tamanho M\n",
            "Deseja pedir mais um copo (S/N)?: N\n",
            "O valor total a ser pago: R$ 29 \n"
          ]
        }
      ]
    }
  ]
}