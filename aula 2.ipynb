{
  "nbformat": 4,
  "nbformat_minor": 0,
  "metadata": {
    "colab": {
      "provenance": [],
      "authorship_tag": "ABX9TyNHQFRJwLES28o89UERQ+uI",
      "include_colab_link": true
    },
    "kernelspec": {
      "name": "python3",
      "display_name": "Python 3"
    },
    "language_info": {
      "name": "python"
    }
  },
  "cells": [
    {
      "cell_type": "markdown",
      "metadata": {
        "id": "view-in-github",
        "colab_type": "text"
      },
      "source": [
        "<a href=\"https://colab.research.google.com/github/SteeveOdes/Google-colab/blob/main/aula%202.ipynb\" target=\"_parent\"><img src=\"https://colab.research.google.com/assets/colab-badge.svg\" alt=\"Open In Colab\"/></a>"
      ]
    },
    {
      "cell_type": "markdown",
      "source": [],
      "metadata": {
        "id": "lplioH-eTal4"
      }
    },
    {
      "cell_type": "code",
      "execution_count": null,
      "metadata": {
        "id": "MySLzTk6GuWx"
      },
      "outputs": [],
      "source": [
        "print ('ola, mundo')"
      ]
    },
    {
      "cell_type": "code",
      "source": [
        "print (3+5)"
      ],
      "metadata": {
        "id": "b1r9ar7qK_wu"
      },
      "execution_count": null,
      "outputs": []
    },
    {
      "cell_type": "markdown",
      "source": [
        "concatenação"
      ],
      "metadata": {
        "id": "tOKXXbNyUMY0"
      }
    },
    {
      "cell_type": "code",
      "source": [
        "print ('2'+'3')"
      ],
      "metadata": {
        "id": "hg9KwO7wULs6"
      },
      "execution_count": null,
      "outputs": []
    },
    {
      "cell_type": "code",
      "source": [
        "print ('olá,','mundo')"
      ],
      "metadata": {
        "id": "PE_a2ehcUXcY"
      },
      "execution_count": null,
      "outputs": []
    },
    {
      "cell_type": "code",
      "source": [
        "print ('o resultado de 2+3 é:', 2+3)"
      ],
      "metadata": {
        "id": "o3EpYVKkUl-c"
      },
      "execution_count": null,
      "outputs": []
    },
    {
      "cell_type": "markdown",
      "source": [
        "ordem das operações"
      ],
      "metadata": {
        "id": "NTtmNNyaV2lr"
      }
    },
    {
      "cell_type": "code",
      "source": [
        "print (6+(3-4/2))"
      ],
      "metadata": {
        "id": "5tuK-j2nV0i5"
      },
      "execution_count": null,
      "outputs": []
    },
    {
      "cell_type": "code",
      "source": [
        "print (6+(3-4)/2)"
      ],
      "metadata": {
        "id": "laQ4_n2jWLVI"
      },
      "execution_count": null,
      "outputs": []
    },
    {
      "cell_type": "markdown",
      "source": [
        "variáveis"
      ],
      "metadata": {
        "id": "AwiVwPbaZVKZ"
      }
    },
    {
      "cell_type": "code",
      "source": [
        "nota = 7\n",
        "disciplina = 'logica'\n",
        "\n",
        "print (nota)\n",
        "print (disciplina)"
      ],
      "metadata": {
        "id": "JCwRTYWBY3pU"
      },
      "execution_count": null,
      "outputs": []
    },
    {
      "cell_type": "code",
      "source": [
        "print ('nota:', nota, 'disciplina', disciplina)"
      ],
      "metadata": {
        "id": "gL00_-lQZUNC"
      },
      "execution_count": null,
      "outputs": []
    },
    {
      "cell_type": "markdown",
      "source": [
        "VARIÁVEL LÓGICA\n"
      ],
      "metadata": {
        "id": "9odieXGVc7iz"
      }
    },
    {
      "cell_type": "code",
      "source": [
        "a = 1\n",
        "b = 5"
      ],
      "metadata": {
        "id": "E19b8LY5c7WP"
      },
      "execution_count": 23,
      "outputs": []
    },
    {
      "cell_type": "code",
      "source": [
        "resposta = a == b\n",
        "print (resposta)"
      ],
      "metadata": {
        "id": "houViV6FdKSI"
      },
      "execution_count": null,
      "outputs": []
    },
    {
      "cell_type": "code",
      "source": [
        "resposta = a != b\n",
        "print (resposta)"
      ],
      "metadata": {
        "id": "jMTwxeohdY4o"
      },
      "execution_count": null,
      "outputs": []
    },
    {
      "cell_type": "markdown",
      "source": [
        "strings"
      ],
      "metadata": {
        "id": "UbXSHjJsgGY0"
      }
    },
    {
      "cell_type": "code",
      "source": [
        "frase ='olá, mundo'"
      ],
      "metadata": {
        "id": "I5Gaj6X2gFr3"
      },
      "execution_count": 30,
      "outputs": []
    },
    {
      "cell_type": "code",
      "source": [
        "print (frase[2])\n",
        "#é possível acessar cada posição (índice) da cadeia de caracteres"
      ],
      "metadata": {
        "id": "xaR4RZx9gQOm"
      },
      "execution_count": null,
      "outputs": []
    },
    {
      "cell_type": "markdown",
      "source": [
        "fatiamento"
      ],
      "metadata": {
        "id": "8BGUQ39SoSMo"
      }
    },
    {
      "cell_type": "code",
      "source": [
        "#podemos recortar/fatiar um pedaço da string\n",
        "s1 = 'logica e algoritmo'\n",
        "print( s1[0:6])\n",
        "#nesse caso  informei que queria que exibisse do indice 0 ao 6, mas poderia ter colocado sem o delimitador no inicio [:6] que também funcionaria"
      ],
      "metadata": {
        "id": "RbzuUhIwoR-O"
      },
      "execution_count": null,
      "outputs": []
    },
    {
      "cell_type": "markdown",
      "source": [
        "Tamanho"
      ],
      "metadata": {
        "id": "9fkxnvKapj0e"
      }
    },
    {
      "cell_type": "code",
      "source": [
        "s1 = 'logica de programacao'\n",
        "tamanho = len(s1)\n",
        "print(tamanho)\n",
        "#o comando len mostra quantos caracteres tem na cadeia"
      ],
      "metadata": {
        "id": "a4B7zNSHpjX2"
      },
      "execution_count": null,
      "outputs": []
    },
    {
      "cell_type": "markdown",
      "source": [
        "Concatenação"
      ],
      "metadata": {
        "id": "fSqwavSOhYpa"
      }
    },
    {
      "cell_type": "code",
      "source": [
        "s1 = 'lógica'\n",
        "s1 = s1 + ' de programação'\n",
        "print (s1)"
      ],
      "metadata": {
        "id": "hynBJW41hV1D"
      },
      "execution_count": null,
      "outputs": []
    },
    {
      "cell_type": "markdown",
      "source": [
        "repetindo strings nna concatenação"
      ],
      "metadata": {
        "id": "VTz3c19Sh09J"
      }
    },
    {
      "cell_type": "code",
      "source": [
        "s1 = 'a'+ '-' *10 + 'b'\n",
        "print(s1)\n",
        "# o *10 multiplicou o caracter - fazendo com que não precise digitar 10 vezes"
      ],
      "metadata": {
        "id": "rkAbBwHshyc8"
      },
      "execution_count": null,
      "outputs": []
    },
    {
      "cell_type": "markdown",
      "source": [
        "composição"
      ],
      "metadata": {
        "id": "fedFfPnDiYwL"
      }
    },
    {
      "cell_type": "code",
      "source": [
        "\n",
        "nota = 7.5\n",
        "s1 = 'voce tirou %f na disciplina de logica' % nota\n",
        "print (s1)\n",
        "#nesse caso %f foi substituido pela variavel nota que estpa fora das aspas, porém o resultado está com muitas casas decimais."
      ],
      "metadata": {
        "id": "HAv7DXdBiWvz"
      },
      "execution_count": null,
      "outputs": []
    },
    {
      "cell_type": "markdown",
      "source": [
        "limitando as casas decimais"
      ],
      "metadata": {
        "id": "8ec2yQIxkeC1"
      }
    },
    {
      "cell_type": "code",
      "source": [
        "nota = 7.5\n",
        "s1 = 'voce tirou %.2f na disciplina de logica' % nota\n",
        "print (s1)\n",
        "# ao adicionar .2 entre %f o número das casas ficam limitadas a 2"
      ],
      "metadata": {
        "id": "eyBVUxZjkbRD"
      },
      "execution_count": null,
      "outputs": []
    },
    {
      "cell_type": "code",
      "source": [
        "nota = 7.5\n",
        "s1 = 'voce tirou %.1f na disciplina de logica' % nota\n",
        "print (s1)\n",
        "#ao adicionar .1 entre %f o número das casas ficam limitadas a 1"
      ],
      "metadata": {
        "id": "ok-9QSHOk00V"
      },
      "execution_count": null,
      "outputs": []
    },
    {
      "cell_type": "markdown",
      "source": [
        "varias variáveis - modo antigo"
      ],
      "metadata": {
        "id": "e9NAlrJBkZYx"
      }
    },
    {
      "cell_type": "code",
      "source": [
        "nota2 = 8\n",
        "disciplina2 = 'algoritmo'\n",
        "s1 = 'voce tirou %i na disciplina de %s' % (nota2, disciplina2)\n",
        "print (s1)\n",
        "#nesse caso as variáveis devem estar depois do percentual, na ordem de aparição e dentro de parenteses"
      ],
      "metadata": {
        "id": "L5bN17X_j27l"
      },
      "execution_count": null,
      "outputs": []
    },
    {
      "cell_type": "markdown",
      "source": [
        "modo mais moderno"
      ],
      "metadata": {
        "id": "m0yaGrRfnJUc"
      }
    },
    {
      "cell_type": "code",
      "source": [
        "nota2 = 8\n",
        "disciplina2 = 'algoritmo'\n",
        "s1 = 'voce tirou {} na disciplina de {}' .format (nota2, disciplina2)\n",
        "print (s1)\n",
        "#nesse caso os percentuais são substuidos por {} na frase e no final por .format"
      ],
      "metadata": {
        "id": "n9u_2_18nI6n"
      },
      "execution_count": null,
      "outputs": []
    },
    {
      "cell_type": "markdown",
      "source": [
        "FUNÇÃO DE ENTRADA: INPUT\n"
      ],
      "metadata": {
        "id": "CpFn770Prz5L"
      }
    },
    {
      "cell_type": "code",
      "source": [
        "idade = input ('qual sua idade?')\n",
        "print (idade)\n",
        "# o input abre uma carixa de texto para que seja adicionada a informação requisitada"
      ],
      "metadata": {
        "id": "-4gRj_z8rzMb"
      },
      "execution_count": null,
      "outputs": []
    },
    {
      "cell_type": "code",
      "source": [
        "nome = input( 'qual seu nome?')\n",
        "idade = input ('qual sua idade?')\n",
        "disciplina = 'logica'\n",
        "s1 = 'Olá {}, voce tem {} anos e está cursando a disciplina de {}' .format (nome, idade, disciplina)\n",
        "print (s1)"
      ],
      "metadata": {
        "id": "Ap7-BN2pseEF"
      },
      "execution_count": null,
      "outputs": []
    },
    {
      "cell_type": "markdown",
      "source": [
        "convertendo dados de entrada"
      ],
      "metadata": {
        "id": "cY__estTuw4X"
      }
    },
    {
      "cell_type": "code",
      "source": [
        "nome = 'steve'\n",
        "idade = int (input('qual sua idade?'))\n",
        "disciplina = 'logica'\n",
        "s1 = 'Olá {}, voce tem {} anos e está cursando a disciplina de {}' .format (nome, idade, disciplina)\n",
        "print (s1)\n",
        "#nesse caso o dado da idade foi convertido em dado numérico, ao usar int ou float devemos colocar o restante entre parenteses"
      ],
      "metadata": {
        "id": "R3EcUtPbsW-4"
      },
      "execution_count": null,
      "outputs": []
    },
    {
      "cell_type": "markdown",
      "source": [],
      "metadata": {
        "id": "1HlYegf_xEzM"
      }
    },
    {
      "cell_type": "code",
      "source": [
        "x= int(input ('numero x'))\n",
        "y= int(input ('numero y'))\n",
        "equacao = 'O resultado de {} + {} é: {}' .format (x, y, x+y)\n",
        "print (equacao)"
      ],
      "metadata": {
        "id": "vBVv7nA-xEf5"
      },
      "execution_count": null,
      "outputs": []
    },
    {
      "cell_type": "code",
      "source": [],
      "metadata": {
        "id": "BwzvmFnfyv69"
      },
      "execution_count": null,
      "outputs": []
    }
  ]
}